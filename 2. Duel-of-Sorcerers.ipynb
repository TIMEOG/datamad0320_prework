{
 "cells": [
  {
   "cell_type": "markdown",
   "metadata": {},
   "source": [
    "<img src=\"https://bit.ly/2VnXWr2\" width=\"100\" align=\"left\">"
   ]
  },
  {
   "cell_type": "markdown",
   "metadata": {},
   "source": [
    "# Duel of Sorcerers\n",
    "You are witnessing an epic battle between two powerful sorcerers: Gandalf and Saruman. Each sorcerer has 10 spells of variable power in their mind and they are going to throw them one after the other. The winner of the duel will be the one who wins more of those clashes between spells. Spells are represented as a list of 10 integers whose value equals the power of the spell.\n",
    "```\n",
    "gandalf = [10, 11, 13, 30, 22, 11, 10, 33, 22, 22]\n",
    "saruman = [23, 66, 12, 43, 12, 10, 44, 23, 12, 17]\n",
    "```\n",
    "For example:\n",
    "- The first clash is won by Saruman: 10 against 23.\n",
    "- The second clash is won by Saruman: 11 against 66.\n",
    "- ...\n",
    "\n",
    "You will create two variables, one for each sorcerer, where the sum of clashes won will be stored. Depending on which variable is greater at the end of the duel, you will show one of the following three results on the screen:\n",
    "* Gandalf wins\n",
    "* Saruman wins\n",
    "* Tie\n",
    "\n",
    "<img src=\"images/content_lightning_bolt_big.jpg\" width=\"400\">"
   ]
  },
  {
   "cell_type": "markdown",
   "metadata": {},
   "source": [
    "## Tools\n",
    "You don't necessarily need to use all the tools. Maybe you opt to use some of them or completely different ones, they are given to help you shape the exercise. Programming exercises can be solved in many different ways.\n",
    "\n",
    "1. Data structures: **lists, dictionaries**\n",
    "2. Loop: **for loop**\n",
    "3. Conditional statements: **if-elif-else**\n",
    "4. Functions: **range(), len(), print()**\n",
    "\n",
    "## Tasks\n",
    "\n",
    "#### 1. Create two variables called `gandalf` and `saruman` and assign them the spell power lists. Create a variable called `spells` to store the number of spells that the sorcerers cast. "
   ]
  },
  {
   "cell_type": "code",
   "execution_count": 2,
   "metadata": {},
   "outputs": [],
   "source": [
    "gandalf = [10, 11, 13, 30, 22, 11, 10, 33, 22, 22]\n",
    "saruman = [23, 66, 12, 43, 12, 10, 44, 23, 12, 17]\n"
   ]
  },
  {
   "cell_type": "markdown",
   "metadata": {},
   "source": [
    "#### 2. Create two variables called `gandalf_wins` and `saruman_wins`. Set both of them to 0. \n",
    "You will use these variables to count the number of clashes each sorcerer wins. "
   ]
  },
  {
   "cell_type": "code",
   "execution_count": 3,
   "metadata": {},
   "outputs": [],
   "source": [
    "gandalf_wins = 0\n",
    "saruman_wins = 0"
   ]
  },
  {
   "cell_type": "markdown",
   "metadata": {},
   "source": [
    "#### 3. Using the lists of spells of both sorcerers, update variables `gandalf_wins` and `saruman_wins` to count the number of times each sorcerer wins a clash. "
   ]
  },
  {
   "cell_type": "code",
   "execution_count": 4,
   "metadata": {},
   "outputs": [],
   "source": [
    "for i in range(len(gandalf)):      #la funcion range me dice que cojo el rango de valores desde la posicion 0 hasta (n-1). Hay otras opciones para esta funcion, pero este que digo aqui es el más habitual\n",
    "    if gandalf[i] > saruman[i]:\n",
    "        gandalf_wins = gandalf_wins + 1\n",
    "    elif gandalf[i] < saruman[i]:\n",
    "        saruman_wins = saruman_wins + 1\n"
   ]
  },
  {
   "cell_type": "markdown",
   "metadata": {},
   "source": [
    "#### 4. Who won the battle?\n",
    "Print `Gandalf wins`, `Saruman wins` or `Tie` depending on the result. "
   ]
  },
  {
   "cell_type": "code",
   "execution_count": 5,
   "metadata": {},
   "outputs": [
    {
     "name": "stdout",
     "output_type": "stream",
     "text": [
      "Gandalf wins\n"
     ]
    }
   ],
   "source": [
    "if gandalf_wins > saruman_wins:\n",
    "    print('Gandalf wins')\n",
    "elif gandalf_wins < saruman_wins:\n",
    "    print('Saruman wins')\n",
    "else:\n",
    "    print('Tie')"
   ]
  },
  {
   "cell_type": "markdown",
   "metadata": {},
   "source": [
    "## Bonus\n",
    "\n",
    "In this bonus challenge, you'll need to check the winner of the battle but this time, a sorcerer wins if he succeeds in winning 3 spell clashes in a row.\n",
    "\n",
    "Also, the spells now have a name and there is a dictionary that associates that name to a power.\n",
    "\n",
    "```\n",
    "POWER = {\n",
    "    'Fireball': 50, \n",
    "    'Lightning bolt': 40, \n",
    "    'Magic arrow': 10, \n",
    "    'Black Tentacles': 25, \n",
    "    'Contagion': 45\n",
    "}\n",
    "\n",
    "gandalf = ['Fireball', 'Lightning bolt', 'Lightning bolt', 'Magic arrow', 'Fireball', \n",
    "           'Magic arrow', 'Lightning bolt', 'Fireball', 'Fireball', 'Fireball']\n",
    "saruman = ['Contagion', 'Contagion', 'Black Tentacles', 'Fireball', 'Black Tentacles', \n",
    "           'Lightning bolt', 'Magic arrow', 'Contagion', 'Magic arrow', 'Magic arrow']\n",
    "```\n",
    "\n",
    "#### 1. Create variables `POWER`, `gandalf` and `saruman` as seen above. Create a variable called `spells` to store the number of spells that the sorcerers cast. "
   ]
  },
  {
   "cell_type": "code",
   "execution_count": 6,
   "metadata": {},
   "outputs": [],
   "source": [
    "POWER = {\n",
    "    'Fireball': 50, \n",
    "    'Lightning bolt': 40, \n",
    "    'Magic arrow': 10, \n",
    "    'Black Tentacles': 25, \n",
    "    'Contagion': 45\n",
    "}\n",
    "\n",
    "gandalf = ['Fireball', 'Lightning bolt', 'Lightning bolt', 'Magic arrow', 'Fireball', \n",
    "           'Magic arrow', 'Lightning bolt', 'Fireball', 'Magic arrow', 'Fireball']\n",
    "saruman = ['Contagion', 'Contagion', 'Black Tentacles', 'Fireball', 'Black Tentacles', \n",
    "           'Lightning bolt', 'Magic arrow', 'Contagion', 'Magic arrow', 'Magic arrow']\n",
    "\n",
    "spells = 0"
   ]
  },
  {
   "cell_type": "markdown",
   "metadata": {},
   "source": [
    "#### 2. Create two variables called `gandalf_wins` and `saruman_wins`. Set both of them to 0. "
   ]
  },
  {
   "cell_type": "code",
   "execution_count": 7,
   "metadata": {},
   "outputs": [],
   "source": [
    "gandalf_wins = 0\n",
    "saruman_wins = 0\n"
   ]
  },
  {
   "cell_type": "markdown",
   "metadata": {},
   "source": [
    "#### 3. Create two variables called `gandalf_power` and `saruman_power` to store the list of spell powers of each sorcerer."
   ]
  },
  {
   "cell_type": "code",
   "execution_count": 8,
   "metadata": {},
   "outputs": [],
   "source": [
    "gandalf_power = 0   \n",
    "saruman_power = 0"
   ]
  },
  {
   "cell_type": "markdown",
   "metadata": {},
   "source": [
    "#### 4. The battle starts! Using the variables you've created above, code the execution of spell clashes. Remember that a sorcerer wins if he succeeds in winning 3 spell clashes in a row. \n",
    "If a clash ends up in a tie, the counter of wins in a row is not restarted to 0. Remember to print who is the winner of the battle. "
   ]
  },
  {
   "cell_type": "code",
   "execution_count": 9,
   "metadata": {},
   "outputs": [
    {
     "name": "stdout",
     "output_type": "stream",
     "text": [
      "Gandalf wins\n"
     ]
    }
   ],
   "source": [
    "for i in range(len(gandalf)):       # como ambos tienen la misma cantidad de spells, nos da igual gandalf que saruman\n",
    "    \n",
    "    spell_of_gandalf = gandalf[i]   # spell_of_gandalf es la \"Cadena\", que asociamos al \"Valor\"\n",
    "    spell_of_saruman = saruman[i]\n",
    "    gandalf_power = POWER [spell_of_gandalf]   # le decimos al diccionario que obtenga el valor vinculado a la clave Spell_of_gandalf/saruman el gandalf_power guarda el valor asociado a la clave [spell_of_gandalf] del diccionario POWER\n",
    "    saruman_power = POWER [spell_of_saruman]\n",
    "\n",
    "    if gandalf_power > saruman_power:\n",
    "        gandalf_wins += 1\n",
    "        saruman_wins = 0\n",
    "    elif gandalf_power < saruman_power:\n",
    "        saruman_wins += 1 \n",
    "        gandalf_wins = 0\n",
    "    else:\n",
    "        continue\n",
    "    if gandalf_wins == 3:\n",
    "        print('Gandalf wins')\n",
    "        \n",
    "    if saruman_wins == 3:\n",
    "        print('Saruman wins')\n",
    "    \n",
    "\n",
    "    "
   ]
  },
  {
   "cell_type": "markdown",
   "metadata": {},
   "source": [
    "#### 5. Find the average spell power of Gandalf and Saruman. "
   ]
  },
  {
   "cell_type": "code",
   "execution_count": 10,
   "metadata": {},
   "outputs": [
    {
     "name": "stdout",
     "output_type": "stream",
     "text": [
      "Spell Average of Gandalf is 50.0\n",
      "Spell Average of Saruman is 10.0\n"
     ]
    }
   ],
   "source": [
    "average_spell_gandalf = 0\n",
    "average_spell_saruman = 0\n",
    "\n",
    "for x in range(len(gandalf)):       # como ambos tienen la misma cantidad de spells, nos da igual gandalf que saruman\n",
    "    \n",
    "    spell_of_gandalf = gandalf[i]   # spell_of_gandalf es la \"Cadena\", que asociamos al \"Valor\"\n",
    "    spell_of_saruman = saruman[i]\n",
    "    gandalf_power = POWER [spell_of_gandalf]   # el gandalf_power guarda el valor asociado a la clave [spell_of_gandalf] del diccionario POWER\n",
    "    saruman_power = POWER [spell_of_saruman]\n",
    "    \n",
    "    average_spell_gandalf = gandalf_power + average_spell_gandalf\n",
    "    average_spell_saruman = saruman_power + average_spell_saruman\n",
    "    \n",
    "average_spell_gandalf = average_spell_gandalf / len (gandalf)\n",
    "average_spell_saruman = average_spell_saruman / len (saruman)\n",
    "\n",
    "print (\"Spell Average of Gandalf is\", average_spell_gandalf)\n",
    "print (\"Spell Average of Saruman is\", average_spell_saruman)\n"
   ]
  },
  {
   "cell_type": "markdown",
   "metadata": {},
   "source": [
    "#### 6. Find the standard deviation of the spell power of Gandalf and Saruman. "
   ]
  },
  {
   "cell_type": "code",
   "execution_count": 11,
   "metadata": {},
   "outputs": [
    {
     "name": "stdout",
     "output_type": "stream",
     "text": [
      "La desviacion estandar de Gandalf es 0.0\n",
      "La desviacion estandar de Saruman es 0.0\n"
     ]
    }
   ],
   "source": [
    "desv_std_gandalf = 0\n",
    "desv_std_saruman = 0\n",
    "\n",
    "for x in range(len(gandalf)):       # en el rango de la lista de gandalf:\n",
    "    \n",
    "    spell_of_gandalf = gandalf[i]   # spell_of_gandalf es la \"Cadena\", que asociamos al \"Valor\"\n",
    "    spell_of_saruman = saruman[i]\n",
    "    gandalf_power = POWER [spell_of_gandalf]   # el gandalf_power guarda el valor asociado a la clave [spell_of_gandalf] del diccionario POWER\n",
    "    saruman_power = POWER [spell_of_saruman]\n",
    "    \n",
    "    desv_std_gandalf = desv_std_gandalf + (average_spell_gandalf - gandalf_power)**2\n",
    "    desv_std_saruman = desv_std_saruman + (average_spell_saruman - saruman_power)**2\n",
    "\n",
    "desv_std_gandalf = desv_std_gandalf / len(gandalf)\n",
    "desv_std_saruman = desv_std_saruman / len(saruman)\n",
    "\n",
    "import math\n",
    "\n",
    "print ( \"La desviacion estandar de Gandalf es\", math.sqrt (desv_std_gandalf))\n",
    "print ( \"La desviacion estandar de Saruman es\", math.sqrt (desv_std_saruman))\n"
   ]
  },
  {
   "cell_type": "code",
   "execution_count": null,
   "metadata": {},
   "outputs": [],
   "source": []
  }
 ],
 "metadata": {
  "kernelspec": {
   "display_name": "Python 3",
   "language": "python",
   "name": "python3"
  },
  "language_info": {
   "codemirror_mode": {
    "name": "ipython",
    "version": 3
   },
   "file_extension": ".py",
   "mimetype": "text/x-python",
   "name": "python",
   "nbconvert_exporter": "python",
   "pygments_lexer": "ipython3",
   "version": "3.7.7"
  }
 },
 "nbformat": 4,
 "nbformat_minor": 2
}
